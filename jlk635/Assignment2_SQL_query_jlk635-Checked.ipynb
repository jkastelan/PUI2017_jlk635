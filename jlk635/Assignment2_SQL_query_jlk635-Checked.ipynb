{
 "cells": [
  {
   "cell_type": "markdown",
   "metadata": {},
   "source": [
    "# SQL CARTO QUERY FUNCTION\n",
    "# Written for PUI2016_Python2"
   ]
  },
  {
   "cell_type": "markdown",
   "metadata": {},
   "source": [
    "#### SQL homework for PUI Homework 7\n",
    "#### Submission by #JKtours (jlk635)\n"
   ]
  },
  {
   "cell_type": "code",
   "execution_count": 1,
   "metadata": {},
   "outputs": [
    {
     "ename": "SyntaxError",
     "evalue": "invalid syntax (<ipython-input-1-513527a0484b>, line 23)",
     "output_type": "error",
     "traceback": [
      "\u001b[0;36m  File \u001b[0;32m\"<ipython-input-1-513527a0484b>\"\u001b[0;36m, line \u001b[0;32m23\u001b[0m\n\u001b[0;31m    except urllib2.HTTPError, e:\u001b[0m\n\u001b[0m                            ^\u001b[0m\n\u001b[0;31mSyntaxError\u001b[0m\u001b[0;31m:\u001b[0m invalid syntax\n"
     ]
    }
   ],
   "source": [
    "SQL_SOURCE = 'https://jlk635.carto.com/api/v2/sql?q='\n",
    "\n",
    "import urllib2\n",
    "import urllib\n",
    "import StringIO\n",
    "import ast\n",
    "import pandas as pd\n",
    "\n",
    "def queryCartoDB(query, format='CSV', source=SQL_SOURCE):\n",
    "    '''queries carto datasets from a given carto account\n",
    "    Arguments: \n",
    "    query - string: a valid sql query string\n",
    "    format - outlut format  OPTIONAL (default CSV)\n",
    "    source - a valid sql api endpoint OPTIONAL (default carto fb55 account)\n",
    "    Returns:\n",
    "    the return of the sql query AS A STRING\n",
    "    NOTES:\n",
    "    designed for the carto API, tested only with CSV return format'''\n",
    "    \n",
    "    data = urllib.urlencode({'format': format, 'q': query})\n",
    "    try:\n",
    "        response = urllib2.urlopen(source, data)\n",
    "    except urllib2.HTTPError, e:\n",
    "        raise ValueError('\\n'.join(ast.literal_eval(e.readline())['error']))\n",
    "    except Exception:\n",
    "        raise\n",
    "    return response.read()"
   ]
  },
  {
   "cell_type": "code",
   "execution_count": null,
   "metadata": {},
   "outputs": [],
   "source": [
    "test = '''\n",
    "SELECT *\n",
    "FROM citibike\n",
    "'''"
   ]
  },
  {
   "cell_type": "code",
   "execution_count": null,
   "metadata": {},
   "outputs": [],
   "source": [
    "pd.read_csv(StringIO.StringIO(queryCartoDB(test)), sep=',')"
   ]
  },
  {
   "cell_type": "markdown",
   "metadata": {},
   "source": [
    "## Task 1 — Familiarize with SQL Clauses"
   ]
  },
  {
   "cell_type": "markdown",
   "metadata": {},
   "source": [
    "#### Sort data by start_station_id, tripduration \n",
    "       - Only checking trips with duration <= 3 hours "
   ]
  },
  {
   "cell_type": "code",
   "execution_count": null,
   "metadata": {},
   "outputs": [],
   "source": [
    "qry2 = '''\n",
    "SELECT *\n",
    "FROM citibike\n",
    "WHERE tripduration <= 10800\n",
    "ORDER BY start_station_id, tripduration \n",
    "'''"
   ]
  },
  {
   "cell_type": "code",
   "execution_count": null,
   "metadata": {},
   "outputs": [],
   "source": [
    "dfTripDur = pd.read_csv(StringIO.StringIO(queryCartoDB(qry2)), sep=',')"
   ]
  },
  {
   "cell_type": "code",
   "execution_count": null,
   "metadata": {},
   "outputs": [],
   "source": [
    "dfTripDur.head()"
   ]
  },
  {
   "cell_type": "markdown",
   "metadata": {},
   "source": [
    "#### Only show the top/last 10 records (aka head and tail in SQL) "
   ]
  },
  {
   "cell_type": "markdown",
   "metadata": {},
   "source": [
    "Head"
   ]
  },
  {
   "cell_type": "code",
   "execution_count": null,
   "metadata": {},
   "outputs": [],
   "source": [
    "qry3 = '''\n",
    "SELECT  *\n",
    "FROM citibike\n",
    "WHERE tripduration <= 10800\n",
    "ORDER BY start_station_id, tripduration \n",
    "LIMIT 10\n",
    "'''\n"
   ]
  },
  {
   "cell_type": "code",
   "execution_count": null,
   "metadata": {},
   "outputs": [],
   "source": [
    "dfTripDurHead = pd.read_csv(StringIO.StringIO(queryCartoDB(qry3)), sep=',')"
   ]
  },
  {
   "cell_type": "code",
   "execution_count": null,
   "metadata": {},
   "outputs": [],
   "source": [
    "dfTripDurHead"
   ]
  },
  {
   "cell_type": "markdown",
   "metadata": {},
   "source": [
    "Tail"
   ]
  },
  {
   "cell_type": "code",
   "execution_count": null,
   "metadata": {},
   "outputs": [],
   "source": [
    "qry4 = '''\n",
    "SELECT  *\n",
    "FROM citibike\n",
    "WHERE tripduration <= 10800\n",
    "ORDER BY start_station_id DESC, tripduration DESC\n",
    "LIMIT 10\n",
    "'''"
   ]
  },
  {
   "cell_type": "code",
   "execution_count": null,
   "metadata": {},
   "outputs": [],
   "source": [
    "dfTripDurTail = pd.read_csv(StringIO.StringIO(queryCartoDB(qry4)), sep=',')\n",
    "dfTripDurTail"
   ]
  },
  {
   "cell_type": "markdown",
   "metadata": {},
   "source": [
    "#### List all unique start_station_id values"
   ]
  },
  {
   "cell_type": "code",
   "execution_count": null,
   "metadata": {},
   "outputs": [],
   "source": [
    "qry5 = '''\n",
    "SELECT DISTINCT start_station_id\n",
    "FROM citibike\n",
    "ORDER BY start_station_id \n",
    "'''"
   ]
  },
  {
   "cell_type": "code",
   "execution_count": null,
   "metadata": {},
   "outputs": [],
   "source": [
    "dfSSID = pd.read_csv(StringIO.StringIO(queryCartoDB(qry5)), sep=',')\n",
    "dfSSID.drop(['Unnamed: 1'], axis = 1, inplace=True)"
   ]
  },
  {
   "cell_type": "code",
   "execution_count": null,
   "metadata": {},
   "outputs": [],
   "source": [
    "dfSSID.head(15)"
   ]
  },
  {
   "cell_type": "markdown",
   "metadata": {},
   "source": [
    "#### Aggregation functions: \n",
    "    - Count the number of trips (aka wc -l in SQL) \n",
    "    - Find the average/min/max trip duration"
   ]
  },
  {
   "cell_type": "code",
   "execution_count": null,
   "metadata": {},
   "outputs": [],
   "source": [
    "qry6 = '''\n",
    "SELECT COUNT(starttime) as Counts, AVG(tripduration) as AvgDuration, MAX(tripduration) as MaxDuration, MIN(tripduration) as MinDuration\n",
    "FROM citibike\n",
    "WHERE tripduration <10800\n",
    "'''"
   ]
  },
  {
   "cell_type": "code",
   "execution_count": null,
   "metadata": {},
   "outputs": [],
   "source": [
    "dfTripStats = pd.read_csv(StringIO.StringIO(queryCartoDB(qry6)), sep=',')\n",
    "\n",
    "dfTripStats"
   ]
  },
  {
   "cell_type": "code",
   "execution_count": null,
   "metadata": {},
   "outputs": [],
   "source": []
  },
  {
   "cell_type": "markdown",
   "metadata": {},
   "source": [
    "# Task 2 — Working with date/time\n",
    "   \n",
    "#### Selecting trips started on Feb-02-2015 only \n",
    "    "
   ]
  },
  {
   "cell_type": "code",
   "execution_count": null,
   "metadata": {},
   "outputs": [],
   "source": [
    "qry7 = '''\n",
    "SELECT *\n",
    "FROM citibike\n",
    "WHERE starttime > '2015-02-02' AND starttime < '2015-02-03'\n",
    "'''"
   ]
  },
  {
   "cell_type": "code",
   "execution_count": null,
   "metadata": {},
   "outputs": [],
   "source": [
    "dfFeb2 = pd.read_csv(StringIO.StringIO(queryCartoDB(qry7)), sep=',')\n",
    "\n",
    "dfFeb2.head()"
   ]
  },
  {
   "cell_type": "code",
   "execution_count": null,
   "metadata": {},
   "outputs": [],
   "source": [
    "dfFeb2.shape"
   ]
  },
  {
   "cell_type": "markdown",
   "metadata": {},
   "source": [
    "#### Selecting trips started on the weekends \n",
    "What are average trip duration during weekends? \n"
   ]
  },
  {
   "cell_type": "code",
   "execution_count": null,
   "metadata": {},
   "outputs": [],
   "source": [
    "\n",
    "\n",
    "qry8 = '''\n",
    "SELECT EXTRACT(ISODOW FROM  citibike.starttime), citibike.tripduration \n",
    "FROM citibike\n",
    "WHERE EXTRACT(ISODOW FROM  citibike.starttime) >= 6\n",
    "'''\n"
   ]
  },
  {
   "cell_type": "code",
   "execution_count": null,
   "metadata": {},
   "outputs": [],
   "source": [
    "dfWeekendTrips = pd.read_csv(StringIO.StringIO(queryCartoDB(qry8)), sep=',')\n",
    "\n",
    "dfWeekendTrips.head()"
   ]
  },
  {
   "cell_type": "code",
   "execution_count": null,
   "metadata": {},
   "outputs": [],
   "source": [
    "qry9 = '''\n",
    "SELECT AVG(tripduration) \n",
    "FROM citibike\n",
    "WHERE EXTRACT(ISODOW FROM  citibike.starttime) >= 6\n",
    "'''"
   ]
  },
  {
   "cell_type": "code",
   "execution_count": null,
   "metadata": {},
   "outputs": [],
   "source": [
    "dfAvgDurationWeekendTrips = pd.read_csv(StringIO.StringIO(queryCartoDB(qry9)), sep=',')\n",
    "dfAvgDurationWeekendTrips.drop(['Unnamed: 1'], axis = 1, inplace=True)\n",
    "dfAvgDurationWeekendTrips\n"
   ]
  },
  {
   "cell_type": "code",
   "execution_count": null,
   "metadata": {},
   "outputs": [],
   "source": [
    "## Another query approach provides slightly different answer\n",
    "\n",
    "qry20 = '''\n",
    "SELECT AVG(tripduration) \n",
    "FROM citibike\n",
    "WHERE EXTRACT(DOW FROM  citibike.starttime) >= 5\n",
    "'''"
   ]
  },
  {
   "cell_type": "code",
   "execution_count": null,
   "metadata": {},
   "outputs": [],
   "source": [
    "dets = pd.read_csv(StringIO.StringIO(queryCartoDB(qry20)), sep=',')\n",
    "dets.drop(['Unnamed: 1'], axis = 1, inplace=True)\n",
    "dets"
   ]
  },
  {
   "cell_type": "markdown",
   "metadata": {},
   "source": [
    "#### Can we do the same for weekday?"
   ]
  },
  {
   "cell_type": "code",
   "execution_count": null,
   "metadata": {},
   "outputs": [],
   "source": [
    "qry10 = '''\n",
    "SELECT AVG(tripduration) \n",
    "FROM citibike\n",
    "WHERE EXTRACT(ISODOW FROM  citibike.starttime) < 6\n",
    "'''"
   ]
  },
  {
   "cell_type": "code",
   "execution_count": null,
   "metadata": {},
   "outputs": [],
   "source": [
    "dfAvgDurationWeekdayTrips = pd.read_csv(StringIO.StringIO(queryCartoDB(qry10)), sep=',')\n",
    "dfAvgDurationWeekdayTrips.drop(['Unnamed: 1'], axis = 1, inplace=True)\n",
    "dfAvgDurationWeekdayTrips\n"
   ]
  },
  {
   "cell_type": "markdown",
   "metadata": {},
   "source": [
    "# Task 3 — Working with Space\n",
    "#### Showing the list of start station locations \n",
    "    Using GROUP BY \n"
   ]
  },
  {
   "cell_type": "code",
   "execution_count": null,
   "metadata": {},
   "outputs": [],
   "source": [
    "\n",
    "qry11 = '''\n",
    "SELECT DISTINCT start_station_id, start_station_latitude, start_station_longitude\n",
    "FROM citibike\n",
    "GROUP BY start_station_id, start_station_latitude, start_station_longitude\n",
    "'''"
   ]
  },
  {
   "cell_type": "code",
   "execution_count": null,
   "metadata": {},
   "outputs": [],
   "source": [
    "dfSSLocs = pd.read_csv(StringIO.StringIO(queryCartoDB(qry11)), sep=',')\n",
    "dfSSLocs.head()"
   ]
  },
  {
   "cell_type": "code",
   "execution_count": null,
   "metadata": {},
   "outputs": [],
   "source": [
    "dfSSLocs.shape"
   ]
  },
  {
   "cell_type": "markdown",
   "metadata": {},
   "source": [
    "#### Showing the number of trips started per station \n",
    "    ... but only for stations within 500m of Time Square! \n",
    "\n",
    "    The coordinates of Times Square is (40.7577,-73.9857)"
   ]
  },
  {
   "cell_type": "code",
   "execution_count": null,
   "metadata": {},
   "outputs": [],
   "source": [
    "\n",
    "qry12 = '''\n",
    "SELECT DISTINCT start_station_id, start_station_latitude, start_station_longitude, COUNT(starttime) AS tripcount\n",
    "FROM citibike\n",
    "WHERE ST_DWithin(CDB_LatLng(start_station_latitude,\n",
    "                       start_station_longitude \n",
    "                                             )   :: geography,\n",
    "                 CDB_LatLng(40.7577, -73.9857)  :: geography, 500) \n",
    "GROUP BY start_station_id, start_station_latitude, start_station_longitude\n",
    "'''\n",
    "\n"
   ]
  },
  {
   "cell_type": "code",
   "execution_count": null,
   "metadata": {},
   "outputs": [],
   "source": [
    "dfSSLocsNrTimesSqu = pd.read_csv(StringIO.StringIO(queryCartoDB(qry12)), sep=',')\n",
    "dfSSLocsNrTimesSqu"
   ]
  },
  {
   "cell_type": "markdown",
   "metadata": {},
   "source": [
    "# Task 4 — Putting it all together\n",
    "#### Find the station that had the longest average trip duration during weekends and within 500m of TimeSquare! \n"
   ]
  },
  {
   "cell_type": "code",
   "execution_count": null,
   "metadata": {},
   "outputs": [],
   "source": [
    "qry13 = '''\n",
    "SELECT DISTINCT start_station_id, start_station_latitude, start_station_longitude, COUNT(starttime) AS tripcount, AVG(tripduration) AS avgtripdur\n",
    "FROM citibike\n",
    "WHERE ST_DWithin(CDB_LatLng(start_station_latitude,\n",
    "                       start_station_longitude \n",
    "                                            )   :: geography,\n",
    "                 CDB_LatLng(40.7577, -73.9857)  :: geography, 500) \n",
    "                 \n",
    "                 AND\n",
    "                 \n",
    "                 EXTRACT(DOW FROM  citibike.starttime) >= 5\n",
    "                 \n",
    "GROUP BY start_station_id, start_station_latitude, start_station_longitude\n",
    "'''"
   ]
  },
  {
   "cell_type": "code",
   "execution_count": null,
   "metadata": {},
   "outputs": [],
   "source": [
    "dfAvgTripDur_WE_TS = pd.read_csv(StringIO.StringIO(queryCartoDB(qry13)), sep=',')\n",
    "dfAvgTripDur_WE_TS"
   ]
  },
  {
   "cell_type": "code",
   "execution_count": null,
   "metadata": {},
   "outputs": [],
   "source": [
    "qry14 = '''\n",
    "SELECT MAX(avgtripdur)\n",
    "\n",
    "FROM (\n",
    "\n",
    "SELECT DISTINCT start_station_id, start_station_latitude, start_station_longitude, COUNT(starttime) AS tripcount, AVG(tripduration) AS avgtripdur\n",
    "FROM citibike\n",
    "WHERE ST_DWithin(CDB_LatLng(start_station_latitude,\n",
    "                       start_station_longitude \n",
    "                                                )   :: geography,\n",
    "                 CDB_LatLng(40.7577, -73.9857)  :: geography, 500) \n",
    "                 \n",
    "                 AND\n",
    "                 \n",
    "                 EXTRACT(DOW FROM  citibike.starttime) >= 5\n",
    "GROUP BY start_station_id, start_station_latitude, start_station_longitude) AS Subquery\n",
    "                 '''\n"
   ]
  },
  {
   "cell_type": "code",
   "execution_count": null,
   "metadata": {},
   "outputs": [],
   "source": [
    "dfAvgTripDur_WE_TS_MAX = pd.read_csv(StringIO.StringIO(queryCartoDB(qry14)), sep=',')\n",
    "dfAvgTripDur_WE_TS_MAX.drop(['Unnamed: 1'], axis = 1, inplace=True)\n",
    "dfAvgTripDur_WE_TS_MAX"
   ]
  },
  {
   "cell_type": "markdown",
   "metadata": {},
   "source": [
    "#### Extra: Create lines for trips started from stations within 500m of Times Squares and lasted less than 2 hours\n",
    "The number of trips per each pair of stations are output as attributes of these lines. "
   ]
  },
  {
   "cell_type": "code",
   "execution_count": null,
   "metadata": {},
   "outputs": [],
   "source": [
    "\n",
    "\n",
    "qry15 = '''\n",
    "SELECT ST_Makeline(\n",
    "            CDB_TransformToWebmercator(\n",
    "                CDB_LatLng(start_station_latitude,\n",
    "                       start_station_longitude \n",
    "                                                )),\n",
    "          CDB_TransformToWebmercator(\n",
    "                CDB_LatLng(end_station_latitude,\n",
    "                       end_station_longitude \n",
    "                                                ))\n",
    "                                                    ) \n",
    "                as the_geom_webmercator,\n",
    "                                            MIN(cartodb_id) as cartodb_id,\n",
    "                                            AVG(tripduration) as ta,\n",
    "                                            COUNT(starttime) as tripcount\n",
    "FROM citibike\n",
    "WHERE ST_DWithin(CDB_LatLng(start_station_latitude,\n",
    "                       start_station_longitude \n",
    "                                                )   :: geography,\n",
    "                 CDB_LatLng(40.7577, -73.9857)  :: geography, 500) \n",
    "       AND tripduration < 7200\n",
    "  \n",
    "GROUP BY start_station_id, start_station_latitude, start_station_longitude,\n",
    "             end_station_id, end_station_latitude, end_station_longitude \n",
    "'''                 \n"
   ]
  },
  {
   "cell_type": "code",
   "execution_count": null,
   "metadata": {},
   "outputs": [],
   "source": [
    "dfLinePlots = pd.read_csv(StringIO.StringIO(queryCartoDB(qry15)), sep=',')\n",
    "#dfAvgTripDur_WE_TS_MAX.drop(['Unnamed: 1'], axis = 1, inplace=True)\n",
    "dfLinePlots.head()"
   ]
  },
  {
   "cell_type": "markdown",
   "metadata": {},
   "source": [
    "## Lines for trips started from stations within 500m of Times Squares and lasted less than 2 hours\n",
    "![alt text](Trips.png \"Trips started from stations within 500m of Times Square lasting less than 2 hours\")"
   ]
  },
  {
   "cell_type": "markdown",
   "metadata": {
    "collapsed": true
   },
   "source": [
    "# extra credit: make the function python 2 and 3 compatible so that it works on the  PUI2016_Python3 kernel"
   ]
  },
  {
   "cell_type": "markdown",
   "metadata": {},
   "source": [
    "## ASH - Score 100. Extra CRedit 0"
   ]
  },
  {
   "cell_type": "code",
   "execution_count": null,
   "metadata": {},
   "outputs": [],
   "source": [
    "    "
   ]
  }
 ],
 "metadata": {
  "anaconda-cloud": {},
  "kernelspec": {
   "display_name": "PUI2016_Python3",
   "language": "python",
   "name": "pui2016_python3"
  },
  "language_info": {
   "codemirror_mode": {
    "name": "ipython",
    "version": 3
   },
   "file_extension": ".py",
   "mimetype": "text/x-python",
   "name": "python",
   "nbconvert_exporter": "python",
   "pygments_lexer": "ipython3",
   "version": "3.5.4"
  }
 },
 "nbformat": 4,
 "nbformat_minor": 1
}
